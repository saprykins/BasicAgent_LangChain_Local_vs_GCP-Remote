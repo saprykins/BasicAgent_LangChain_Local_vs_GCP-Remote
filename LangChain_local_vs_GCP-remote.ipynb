{
 "cells": [
  {
   "cell_type": "code",
   "execution_count": 2,
   "id": "3967be59-bb5e-44ef-b0c3-c2d737a0d4c9",
   "metadata": {
    "tags": []
   },
   "outputs": [],
   "source": [
    "!pip install --upgrade --quiet \\\n",
    "    \"google-cloud-aiplatform[langchain,reasoningengine]\" \\\n",
    "    cloudpickle==3.0.0 \\\n",
    "    pydantic==2.7.4 \\\n",
    "    requests"
   ]
  },
  {
   "cell_type": "code",
   "execution_count": 3,
   "id": "a61d3824-e969-4472-9b38-188d8ea8e318",
   "metadata": {
    "tags": []
   },
   "outputs": [
    {
     "data": {
      "text/plain": [
       "{'status': 'ok', 'restart': True}"
      ]
     },
     "execution_count": 3,
     "metadata": {},
     "output_type": "execute_result"
    }
   ],
   "source": [
    "# Restart the kernel after installation so that your environment can access the new packages\n",
    "import IPython\n",
    "\n",
    "app = IPython.Application.instance()\n",
    "app.kernel.do_shutdown(True)"
   ]
  },
  {
   "cell_type": "code",
   "execution_count": 1,
   "id": "97c3e7f2-2aaa-47f3-8f62-7165f388c524",
   "metadata": {
    "tags": []
   },
   "outputs": [],
   "source": [
    "PROJECT_ID = \"THE_PROJECT_ID\"  \n",
    "LOCATION = \"THE_REGION"\n",
    "STAGING_BUCKET = \"THE_BUCKET"  \n",
    "\n",
    "import vertexai\n",
    "\n",
    "vertexai.init(project=PROJECT_ID, location=LOCATION, staging_bucket=STAGING_BUCKET)"
   ]
  },
  {
   "cell_type": "code",
   "execution_count": 2,
   "id": "b40e3b5b-f2e3-4148-8be9-55115043cc5e",
   "metadata": {
    "tags": []
   },
   "outputs": [],
   "source": [
    "from vertexai.preview import reasoning_engines"
   ]
  },
  {
   "cell_type": "code",
   "execution_count": 3,
   "id": "d16aae1e-d4ef-4b16-9e59-912fc7571357",
   "metadata": {
    "tags": []
   },
   "outputs": [],
   "source": [
    "model = \"gemini-2.0-flash\""
   ]
  },
  {
   "cell_type": "code",
   "execution_count": 4,
   "id": "f6a478ef-f24b-43c7-b7d8-f4829dcb2ae4",
   "metadata": {
    "tags": []
   },
   "outputs": [],
   "source": [
    "def get_exchange_rate(\n",
    "    currency_from: str = \"USD\",\n",
    "    currency_to: str = \"EUR\",\n",
    "    currency_date: str = \"latest\",\n",
    "):\n",
    "    \"\"\"Retrieves the exchange rate between two currencies on a specified date.\"\"\"\n",
    "    import requests\n",
    "\n",
    "    response = requests.get(\n",
    "        f\"https://api.frankfurter.app/{currency_date}\",\n",
    "        params={\"from\": currency_from, \"to\": currency_to},\n",
    "    )\n",
    "    return response.json()"
   ]
  },
  {
   "cell_type": "code",
   "execution_count": 5,
   "id": "92b769c3-7d99-455f-9e49-d6855908f92a",
   "metadata": {
    "tags": []
   },
   "outputs": [
    {
     "data": {
      "text/plain": [
       "{'amount': 1.0, 'base': 'USD', 'date': '2025-04-17', 'rates': {'SEK': 9.7076}}"
      ]
     },
     "execution_count": 5,
     "metadata": {},
     "output_type": "execute_result"
    }
   ],
   "source": [
    "get_exchange_rate(currency_from=\"USD\", currency_to=\"SEK\")"
   ]
  },
  {
   "cell_type": "code",
   "execution_count": 12,
   "id": "eeecb6c9-1e3c-44c9-a031-8fe9ab8868b7",
   "metadata": {
    "tags": []
   },
   "outputs": [],
   "source": [
    "agent = reasoning_engines.LangchainAgent(\n",
    "    model=model,\n",
    "    tools=[get_exchange_rate],\n",
    "    # agent_executor_kwargs={\"return_intermediate_steps\": True},\n",
    ")"
   ]
  },
  {
   "cell_type": "code",
   "execution_count": 13,
   "id": "b01203d1-dc99-4f03-95ab-35719995a5e4",
   "metadata": {
    "tags": []
   },
   "outputs": [
    {
     "data": {
      "text/plain": [
       "{'input': \"What's the exchange rate from US dollars to Swedish currency on 2025-04-21?\",\n",
       " 'output': 'I am sorry. I cannot fulfill this request directly. The exchange rate provided is for 2025-04-17, not 2025-04-21. If you want to know the exchange rate on 2025-04-21, please specify that date.\\n'}"
      ]
     },
     "execution_count": 13,
     "metadata": {},
     "output_type": "execute_result"
    }
   ],
   "source": [
    "from datetime import date\n",
    "\n",
    "today_str = date.today().isoformat()\n",
    "query = f\"What's the exchange rate from US dollars to Swedish currency on {today_str}?\"\n",
    "agent.query(input=query)"
   ]
  },
  {
   "cell_type": "code",
   "execution_count": 15,
   "id": "1634d866-c7a2-4d45-a00a-4e19a9805093",
   "metadata": {
    "tags": []
   },
   "outputs": [
    {
     "name": "stdout",
     "output_type": "stream",
     "text": [
      "Using bucket qwiklabs-gcp-01-4e3413064426\n",
      "Writing to gs://qwiklabs-gcp-01-4e3413064426/reasoning_engine/reasoning_engine.pkl\n",
      "Writing to gs://qwiklabs-gcp-01-4e3413064426/reasoning_engine/requirements.txt\n",
      "Creating in-memory tarfile of extra_packages\n",
      "Writing to gs://qwiklabs-gcp-01-4e3413064426/reasoning_engine/dependencies.tar.gz\n",
      "Creating ReasoningEngine\n",
      "Create ReasoningEngine backing LRO: projects/274232503952/locations/us-central1/reasoningEngines/6752452749893304320/operations/4005708429799718912\n",
      "ReasoningEngine created. Resource name: projects/274232503952/locations/us-central1/reasoningEngines/6752452749893304320\n",
      "To use this ReasoningEngine in another session:\n",
      "reasoning_engine = vertexai.preview.reasoning_engines.ReasoningEngine('projects/274232503952/locations/us-central1/reasoningEngines/6752452749893304320')\n"
     ]
    }
   ],
   "source": [
    "remote_agent = reasoning_engines.ReasoningEngine.create(\n",
    "    agent,\n",
    "    requirements=[\n",
    "        \"google-cloud-aiplatform[langchain,reasoningengine]\",\n",
    "        \"cloudpickle==3.0.0\",\n",
    "        \"pydantic==2.7.4\",\n",
    "        \"requests\",\n",
    "    ],\n",
    ")"
   ]
  },
  {
   "cell_type": "code",
   "execution_count": 16,
   "id": "08e5c3b6-2233-41d4-ac95-6e9683744cbb",
   "metadata": {
    "tags": []
   },
   "outputs": [
    {
     "data": {
      "text/plain": [
       "{'output': \"I couldn't find the exchange rate for the exact date you specified (2025-04-21). However, the exchange rate from USD to SEK on 2025-04-17 was 1 USD to 9.7076 SEK.\\n\",\n",
       " 'input': \"What's the exchange rate from US dollars to Swedish currency on 2025-04-21?\"}"
      ]
     },
     "execution_count": 16,
     "metadata": {},
     "output_type": "execute_result"
    }
   ],
   "source": [
    "from datetime import date\n",
    "\n",
    "today_str = date.today().isoformat()\n",
    "query = f\"What's the exchange rate from US dollars to Swedish currency on {today_str}?\"\n",
    "remote_agent.query(input=query)"
   ]
  },
  {
   "cell_type": "code",
   "execution_count": null,
   "id": "d67ff1c0-fe6e-4718-9d35-b9c934357c3a",
   "metadata": {},
   "outputs": [],
   "source": []
  }
 ],
 "metadata": {
  "environment": {
   "kernel": "conda-base-py",
   "name": "workbench-notebooks.m129",
   "type": "gcloud",
   "uri": "us-docker.pkg.dev/deeplearning-platform-release/gcr.io/workbench-notebooks:m129"
  },
  "kernelspec": {
   "display_name": "Python 3 (ipykernel) (Local)",
   "language": "python",
   "name": "conda-base-py"
  },
  "language_info": {
   "codemirror_mode": {
    "name": "ipython",
    "version": 3
   },
   "file_extension": ".py",
   "mimetype": "text/x-python",
   "name": "python",
   "nbconvert_exporter": "python",
   "pygments_lexer": "ipython3",
   "version": "3.10.16"
  }
 },
 "nbformat": 4,
 "nbformat_minor": 5
}
